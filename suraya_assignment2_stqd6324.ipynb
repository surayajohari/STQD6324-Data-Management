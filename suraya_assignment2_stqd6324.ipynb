{
  "nbformat": 4,
  "nbformat_minor": 0,
  "metadata": {
    "colab": {
      "provenance": [],
      "mount_file_id": "1E4bX-kpVNqDsYOa9jMW0X49Beg05qfbS",
      "authorship_tag": "ABX9TyPHRFOMExK5OZZai/J6M4ck",
      "include_colab_link": true
    },
    "kernelspec": {
      "name": "python3",
      "display_name": "Python 3"
    },
    "language_info": {
      "name": "python"
    }
  },
  "cells": [
    {
      "cell_type": "markdown",
      "metadata": {
        "id": "view-in-github",
        "colab_type": "text"
      },
      "source": [
        "<a href=\"https://colab.research.google.com/github/surayajohari/STQD6324-Data-Management/blob/main/suraya_assignment2_stqd6324.ipynb\" target=\"_parent\"><img src=\"https://colab.research.google.com/assets/colab-badge.svg\" alt=\"Open In Colab\"/></a>"
      ]
    },
    {
      "cell_type": "code",
      "execution_count": 1,
      "metadata": {
        "id": "evrrQKFNVbIW"
      },
      "outputs": [],
      "source": [
        "import pandas as pd"
      ]
    },
    {
      "cell_type": "code",
      "source": [
        "#Load all data\n",
        "\n",
        "fd08 = pd.read_csv('/content/drive/MyDrive/STQD6324/flight_data08.csv', sep=',')\n",
        "airports = pd.read_csv('/content/drive/MyDrive/STQD6324/airports.csv', sep=',')\n",
        "carriers = pd.read_csv('/content/drive/MyDrive/STQD6324/carriers.csv', sep=',')\n",
        "plane_data = pd.read_csv('/content/drive/MyDrive/STQD6324/plane-data.csv', sep=',')"
      ],
      "metadata": {
        "id": "fgMt61AWV7IH"
      },
      "execution_count": 71,
      "outputs": []
    },
    {
      "cell_type": "code",
      "source": [
        "fd08['CarrierDelay']"
      ],
      "metadata": {
        "colab": {
          "base_uri": "https://localhost:8080/"
        },
        "id": "RbOGOnPP-8wa",
        "outputId": "f942ee75-4412-4b97-ea00-65232297b44a"
      },
      "execution_count": 70,
      "outputs": [
        {
          "output_type": "execute_result",
          "data": {
            "text/plain": [
              "0          16.0\n",
              "1           NaN\n",
              "2           NaN\n",
              "3           NaN\n",
              "4          16.0\n",
              "           ... \n",
              "2389212     NaN\n",
              "2389213     NaN\n",
              "2389214     NaN\n",
              "2389215     NaN\n",
              "2389216     NaN\n",
              "Name: CarrierDelay, Length: 2389217, dtype: float64"
            ]
          },
          "metadata": {},
          "execution_count": 70
        }
      ]
    },
    {
      "cell_type": "code",
      "source": [
        "# Merge carriers and 2008 data\n",
        "\n",
        "fd08_carriers_m = pd.merge(fd08, carriers, left_on='UniqueCarrier', right_on='Code', how='left')"
      ],
      "metadata": {
        "id": "d9ICkkzI1sNI"
      },
      "execution_count": 72,
      "outputs": []
    },
    {
      "cell_type": "code",
      "source": [
        "# Merge carriers & 2008 data with planes data\n",
        "\n",
        "fd08_carriers_planes_m = pd.merge(fd08_carriers_m, plane_data, left_on='TailNum', right_on='tailnum', how='left')"
      ],
      "metadata": {
        "id": "7QgfDyUA2Eeu"
      },
      "execution_count": 74,
      "outputs": []
    },
    {
      "cell_type": "code",
      "source": [
        "# Merge carriers, planes & 2008 data with airport data\n",
        "\n",
        "# for origin airport\n",
        "fd08_merged = pd.merge(fd08_carriers_planes_m, airports, left_on='Origin', right_on='iata', how='left')\n",
        "fd08_merged.rename(columns={'airport':'OriginAirport', 'city':'OriginCity', 'state':'OriginState'}, inplace=True)\n",
        "fd08_merged.drop(columns=['iata'], inplace=True)\n",
        "\n",
        "# for destination airport\n",
        "fd08_merged = pd.merge(fd08_merged, airports, left_on='Dest', right_on='iata', how='left')\n",
        "fd08_merged.rename(columns={'airport':'DestAirport', 'city':'DestCity', 'state':'DestState'}, inplace=True)\n",
        "fd08_merged.drop(columns=['iata'], inplace=True)"
      ],
      "metadata": {
        "id": "BxqKeev83J1e"
      },
      "execution_count": 76,
      "outputs": []
    },
    {
      "cell_type": "code",
      "source": [
        "### 1. What are the optimal times of day, days of the week, and times of the year for minimizing flight delays?\n",
        "\n",
        "# Convert the date columns to datetime format\n",
        "fd08_merged['Date'] = pd.to_datetime(fd08_merged['Year'].astype(str) + '-' +\n",
        "                                    fd08_merged['Month'].astype(str) + '-' +\n",
        "                                    fd08_merged['DayofMonth'].astype(str))\n",
        "\n",
        "# Extract day of week (0 = Monday, 6 = Sunday) and hour of the day from the 'Date column\n",
        "fd08_merged['DayOfWeek']=fd08_merged['Date'].dt.dayofweek\n",
        "fd08_merged['HourOfDay']=fd08_merged['CRSDepTime'] // 100\n",
        "\n",
        "# Calculate average delay times grouped by dat of week and hour of day\n",
        "avg_delay_by_day_hour = fd08_merged.groupby(['DayOfWeek', 'HourOfDay'])['ArrDelay'].mean()\n",
        "\n",
        "# Find the minimum delay time\n",
        "min_delay = avg_delay_by_day_hour.min()\n",
        "\n",
        "# Find the corresponding day of week and hour of day for the minimum delay\n",
        "optimal_time = avg_delay_by_day_hour.idxmin()\n",
        "optimal_day_of_week = optimal_time[0]  # index 0 corresponds to DayOfWeek\n",
        "optimal_hour_of_day = optimal_time[1]  # index 1 corresponds to HourOfDay\n",
        "\n",
        "# Output\n",
        "print(f\"Optimal time for minimizing flight delays is on {optimal_day_of_week} at {optimal_hour_of_day} o'clock.\")\n",
        "print(f\"Average delay time at this optimal time: {min_delay:.2f} minutes.\")"
      ],
      "metadata": {
        "colab": {
          "base_uri": "https://localhost:8080/"
        },
        "id": "wdiYSmKS6CTB",
        "outputId": "864bf779-c6f3-4e42-a13e-309469efc892"
      },
      "execution_count": 78,
      "outputs": [
        {
          "output_type": "stream",
          "name": "stdout",
          "text": [
            "Optimal time for minimizing flight delays is on 1 at 4 o'clock.\n",
            "Average delay time at this optimal time: -8.09 minutes.\n"
          ]
        }
      ]
    },
    {
      "cell_type": "code",
      "source": [
        "### 2. What are the primary factors contributing to flight delays?\n",
        "\n",
        "# Group by delay factors and sum the delays\n",
        "delay_factors = ['CarrierDelay', 'WeatherDelay', 'NASDelay', 'SecurityDelay', 'LateAircraftDelay']\n",
        "delay_factors_sum = fd08_merged[delay_factors].sum()\n",
        "\n",
        "# Identify the primary factor (maximum delay)\n",
        "primary_delay_factor = delay_factors_sum.idxmax()\n",
        "max_delay_minutes = delay_factors_sum.max()\n",
        "\n",
        "# Print results\n",
        "print(f\"The primary factor contributing to flight delays is {primary_delay_factor} with a total delay of {max_delay_minutes} minutes.\")"
      ],
      "metadata": {
        "colab": {
          "base_uri": "https://localhost:8080/"
        },
        "id": "wB2wFz_h7NAd",
        "outputId": "8b966fc4-d66c-4874-9640-0d95a3058b1d"
      },
      "execution_count": 80,
      "outputs": [
        {
          "output_type": "stream",
          "name": "stdout",
          "text": [
            "The primary factor contributing to flight delays is LateAircraftDelay with a total delay of 12262628.0 minutes.\n"
          ]
        }
      ]
    },
    {
      "cell_type": "code",
      "source": [
        "### 3. What factors predominantly lead to flight cancellations?\n",
        "\n",
        "# Count the number of cancellations and group by cancellation reasons\n",
        "cancellation_reasons = ['CarrierDelay', 'WeatherDelay', 'NASDelay', 'SecurityDelay', 'LateAircraftDelay']\n",
        "cancellation_counts = fd08_merged[cancellation_reasons].sum()\n",
        "\n",
        "# Identify the predominant cancellation reason (maximum cancellations)\n",
        "predominant_cancellation_reason = cancellation_counts.idxmax()\n",
        "max_cancellations = cancellation_counts.max()\n",
        "\n",
        "# Print results\n",
        "print(f\"The predominant factor leading to flight cancellations is {predominant_cancellation_reason} with {max_cancellations} cancellations.\")"
      ],
      "metadata": {
        "colab": {
          "base_uri": "https://localhost:8080/"
        },
        "id": "lVnQmlFu9o8H",
        "outputId": "ee484e87-8919-4bf1-dd15-55847e8bb77d"
      },
      "execution_count": 83,
      "outputs": [
        {
          "output_type": "stream",
          "name": "stdout",
          "text": [
            "The predominant factor leading to flight cancellations is LateAircraftDelay with 12262628.0 cancellations.\n"
          ]
        }
      ]
    },
    {
      "cell_type": "code",
      "source": [
        "### 4. Which flight experiences the most frequent and significant delays and cancellations?\n",
        "\n",
        "# Group by flight number and calculate counts of delays and cancellations\n",
        "flight_delays = fd08_merged.groupby('FlightNum')['ArrDelay'].agg(['count', 'mean'])\n",
        "flight_cancellations = fd08_merged.groupby('FlightNum')['Cancelled'].sum()\n",
        "\n",
        "# Identify the flight with the most frequent delays (count)\n",
        "max_delay_count_flight = flight_delays['count'].idxmax()\n",
        "\n",
        "# Identify the flight with the most significant delays (mean)\n",
        "max_mean_delay_flight = flight_delays['mean'].idxmax()\n",
        "\n",
        "# Identify the flight with the most cancellations\n",
        "max_cancellations_flight = flight_cancellations.idxmax()\n",
        "max_cancellations_count = flight_cancellations.max()\n",
        "\n",
        "# Print results\n",
        "print(f\"The flight with the most frequent delays (count) is Flight {max_delay_count_flight}.\")\n",
        "print(f\"The flight with the most significant delays (mean) is Flight {max_mean_delay_flight}.\")\n",
        "print(f\"The flight with the most cancellations is Flight {max_cancellations_flight} with {max_cancellations_count} cancellations.\")\n"
      ],
      "metadata": {
        "colab": {
          "base_uri": "https://localhost:8080/"
        },
        "id": "fh7VhgV298_a",
        "outputId": "fec0df8b-1b5f-4903-a615-ffa6cc2de94b"
      },
      "execution_count": 65,
      "outputs": [
        {
          "output_type": "stream",
          "name": "stdout",
          "text": [
            "The flight with the most frequent delays (count) is Flight 511.\n",
            "The flight with the most significant delays (mean) is Flight 7487.\n",
            "The flight with the most cancellations is Flight 5886 with 70 cancellations.\n"
          ]
        }
      ]
    },
    {
      "cell_type": "code",
      "source": [
        "### Merging data using Hive\n",
        "\n",
        "-- Create an external table for data_2008\n",
        "CREATE EXTERNAL TABLE IF NOT EXISTS data_2008 (\n",
        "    Year int,\n",
        "    Month int,\n",
        "    DayofMonth int,\n",
        "    DayOfWeek int,\n",
        "    DepTime string,\n",
        "    CRSDepTime string,\n",
        "    ArrTime string,\n",
        "    CRSArrTime string,\n",
        "    UniqueCarrier string,\n",
        "    FlightNum string,\n",
        "    TailNum string,\n",
        "    ActualElapsedTime string,\n",
        "    CRSElapsedTime string,\n",
        "    AirTime string,\n",
        "    ArrDelay string,\n",
        "    DepDelay string,\n",
        "    Origin string,\n",
        "    Dest string,\n",
        "    Distance string,\n",
        "    TaxiIn string,\n",
        "    TaxiOut string,\n",
        "    Cancelled string,\n",
        "    CancellationCode string,\n",
        "    Diverted string,\n",
        "    CarrierDelay string,\n",
        "    WeatherDelay string,\n",
        "    NASDelay string,\n",
        "    SecurityDelay string,\n",
        "    LateAircraftDelay string\n",
        ")\n",
        "ROW FORMAT DELIMITED\n",
        "FIELDS TERMINATED BY ','\n",
        "STORED AS TEXTFILE\n",
        "LOCATION '/path/to/data_2008';\n",
        "\n",
        "-- Create an external table for carriers\n",
        "CREATE EXTERNAL TABLE IF NOT EXISTS carriers (\n",
        "    Code string,\n",
        "    Description string\n",
        ")\n",
        "ROW FORMAT DELIMITED\n",
        "FIELDS TERMINATED BY ','\n",
        "STORED AS TEXTFILE\n",
        "LOCATION '/path/to/carriers';\n",
        "\n",
        "-- Create an external table for planes\n",
        "CREATE EXTERNAL TABLE IF NOT EXISTS planes (\n",
        "    tailnum string,\n",
        "    type string,\n",
        "    manufacturer string,\n",
        "    issue_date string,\n",
        "    model string,\n",
        "    status string,\n",
        "    aircraft_type string,\n",
        "    engine_type string,\n",
        "    year int\n",
        ")\n",
        "ROW FORMAT DELIMITED\n",
        "FIELDS TERMINATED BY ','\n",
        "STORED AS TEXTFILE\n",
        "LOCATION '/path/to/planes';\n",
        "\n",
        "-- Create an external table for airports\n",
        "CREATE EXTERNAL TABLE IF NOT EXISTS airports (\n",
        "    iata string,\n",
        "    airport string,\n",
        "    city string,\n",
        "    state string,\n",
        "    country string,\n",
        "    lat string,\n",
        "    long string\n",
        ")\n",
        "ROW FORMAT DELIMITED\n",
        "FIELDS TERMINATED BY ','\n",
        "STORED AS TEXTFILE\n",
        "LOCATION '/path/to/airports';\n",
        "\n",
        "-- Merge data_2008 with carriers\n",
        "CREATE TABLE merged_data AS\n",
        "SELECT d.*, c.Description as CarrierDescription\n",
        "FROM data_2008 d\n",
        "LEFT JOIN carriers c\n",
        "ON d.UniqueCarrier = c.Code;\n",
        "\n",
        "-- Merge merged_data with planes\n",
        "INSERT OVERWRITE TABLE merged_data\n",
        "SELECT m.*, p.type, p.manufacturer, p.model, p.status\n",
        "FROM merged_data m\n",
        "LEFT JOIN planes p\n",
        "ON m.TailNum = p.tailnum;\n",
        "\n",
        "-- Merge merged_data with airports for origin\n",
        "INSERT OVERWRITE TABLE merged_data\n",
        "SELECT m.*, a.airport as OriginAirport, a.city as OriginCity, a.state as OriginState\n",
        "FROM merged_data m\n",
        "LEFT JOIN airports a\n",
        "ON m.Origin = a.iata;\n",
        "\n",
        "-- Merge merged_data with airports for destination\n",
        "INSERT OVERWRITE TABLE merged_data\n",
        "SELECT m.*, a.airport as DestAirport, a.city as DestCity, a.state as DestState\n",
        "FROM merged_data m\n",
        "LEFT JOIN airports a\n",
        "ON m.Dest = a.iata;\n",
        "\n",
        "-- Drop intermediate columns if necessary\n",
        "ALTER TABLE merged_data DROP COLUMN TailNum, UniqueCarrier, Origin, Dest;\n",
        "\n",
        "-- Show the final merged data\n",
        "SELECT * FROM merged_data LIMIT 10;\n"
      ],
      "metadata": {
        "id": "_J4hDQmC-fyH"
      },
      "execution_count": null,
      "outputs": []
    }
  ]
}